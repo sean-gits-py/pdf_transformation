{
 "cells": [
  {
   "cell_type": "code",
   "execution_count": 3,
   "outputs": [],
   "source": [
    "from pdfminer.high_level import extract_pages\n",
    "from pdfminer.layout import LTTextContainer\n",
    "import pandas as pd\n",
    "import re\n",
    "\n",
    "# Define the column names for the DataFrame\n",
    "column_names = [\"Puzzle Number\", \"Game\", \"Location & Year\", \"Solution: Desc Notation\",\n",
    "                \"Solution: Modern Notation\", \"Processing Notes\"]\n",
    "\n",
    "# Create a list to store the rows\n",
    "data = []\n",
    "\n",
    "# Provide the path to your PDF file\n",
    "pdf_path = '/Users/Sean/Library/CloudStorage/OneDrive-Personal/Datasets/chess-endgames.pdf'\n",
    "\n",
    "# Output file path\n",
    "output_file_path = '/Users/Sean/Library/CloudStorage/OneDrive-Personal/Datasets/endgames-py-output.txt'"
   ],
   "metadata": {
    "collapsed": false
   }
  },
  {
   "cell_type": "code",
   "execution_count": 4,
   "outputs": [],
   "source": [
    "# Iterate over the PDF file\n",
    "for i, page_layout in enumerate(extract_pages(pdf_path)):\n",
    "    if i < 782 or i > 785:  # Skip pages outside of 785-1153\n",
    "        continue\n",
    "\n",
    "    # Initialize puzzle_number to \"Unknown\"\n",
    "    puzzle_number = \"Unknown\"\n",
    "    try:\n",
    "        # Initialize text boxes list\n",
    "        text_boxes = []\n",
    "\n",
    "        # Iterate over the text boxes in the page layout\n",
    "        for element in page_layout:\n",
    "            if isinstance(element, LTTextContainer):\n",
    "                text_boxes.append(element)\n",
    "\n",
    "        # Sort the text boxes by their x-position\n",
    "        text_boxes.sort(key=lambda box: box.bbox[0])\n",
    "\n",
    "        # Process each text box separately\n",
    "        for box in text_boxes:\n",
    "            text = box.get_text()\n",
    "\n",
    "            # Extract the puzzle number, game, location & year, and solution\n",
    "            puzzle_number_match = re.findall(r'(\\d+)', text)\n",
    "            puzzle_number = puzzle_number_match[0] if puzzle_number_match else \"Unknown\"\n",
    "\n",
    "            game_match = re.findall(r'([A-Za-z -]+)', text)\n",
    "            game = game_match[1] if len(game_match) > 1 else \"Unknown\"\n",
    "\n",
    "            location_year_match = re.findall(r'([A-Za-z ,0-9]+)', text)\n",
    "            location_year = location_year_match[2] if len(location_year_match) > 2 else \"Unknown\"\n",
    "\n",
    "            solution_match = re.findall(r'((?:[♚♛♜♝♞♟♔♕♖♗♘♙].*? )+\\d-\\d)', text)\n",
    "            solution = solution_match[0] if solution_match else \"Unknown\"\n",
    "\n",
    "            # Add a row to the data list\n",
    "            data.append({\"Puzzle Number\": puzzle_number, \"Game\": game, \"Location & Year\": location_year,\n",
    "                         \"Solution: Desc Notation\": solution, \"Solution: Modern Notation\": \"\",\n",
    "                         \"Processing Notes\": \"\"})\n",
    "\n",
    "        # Print an update for every 400 puzzles added to the data list\n",
    "        if (i - 782 + 1) % 400 == 0:\n",
    "            print(f'Processed {i - 782 + 1} puzzles.')\n",
    "    except Exception as e:\n",
    "        # Add an error row to the data list\n",
    "        data.append({\"Puzzle Number\": puzzle_number, \"Game\": \"\", \"Location & Year\": \"\",\n",
    "                     \"Solution: Desc Notation\": \"\", \"Solution: Modern Notation\": \"\",\n",
    "                     \"Processing Notes\": str(e)})\n",
    "\n",
    "# Convert the data list into a DataFrame\n",
    "df = pd.concat([pd.DataFrame([i], columns=column_names) for i in data], ignore_index=True)\n",
    "\n",
    "# Save the DataFrame to a file\n",
    "df.to_csv(output_file_path, sep='|', index=False)"
   ],
   "metadata": {
    "collapsed": false
   }
  },
  {
   "cell_type": "code",
   "execution_count": null,
   "outputs": [],
   "source": [],
   "metadata": {
    "collapsed": false
   }
  }
 ],
 "metadata": {
  "kernelspec": {
   "display_name": "Python 3",
   "language": "python",
   "name": "python3"
  },
  "language_info": {
   "codemirror_mode": {
    "name": "ipython",
    "version": 2
   },
   "file_extension": ".py",
   "mimetype": "text/x-python",
   "name": "python",
   "nbconvert_exporter": "python",
   "pygments_lexer": "ipython2",
   "version": "2.7.6"
  }
 },
 "nbformat": 4,
 "nbformat_minor": 0
}
