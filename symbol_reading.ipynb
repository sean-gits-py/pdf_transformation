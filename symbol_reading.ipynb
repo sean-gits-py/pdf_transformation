{
 "cells": [
  {
   "cell_type": "code",
   "execution_count": 8,
   "outputs": [],
   "source": [
    "import PyPDF2\n",
    "\n",
    "file_path = '/Users/Sean/Library/CloudStorage/OneDrive-Personal/Datasets/middlegames_test2.pdf'"
   ],
   "metadata": {
    "collapsed": false
   }
  },
  {
   "cell_type": "code",
   "execution_count": 10,
   "outputs": [
    {
     "name": "stdout",
     "output_type": "stream",
     "text": [
      "['1.\\nBrech — Bogilov\\n\\nAachen, 1938\\n\\n1. Ad6! Sd8 [1... Sep\\n\\n2. We8! Bes 3. Ney x ip we7H\\n\\n2.\\nMorphy —N.N.\\nParis, 1859\\n1. DcS! Sb8 C1... dq\\n\\nsee &\\nWd7#] 2. Ad7 beg 3. AKG kbs\\n4, Wc8! Bc8 5. Ad7# 1-9\\n\\n3.\\nMorphy - Bryan\\nNew York, 1859\\n1. Wa3! Sg8[1... 2e8 2. Wer\\n\\n. : #\\n2. De7 SFB 3. Ags Sg 4, wes!\\nHIS 5. Ae7# 1-0\\n\\n4,\\nBan — Czirjak\\n\\nBudapest, 194]\\n\\n1. Ye8! He8 2. AL7# 1-0\\n\\n5.\\nYoung — Dore\\n\\nBoston, 1892\\n\\n1. Ae5!+— Ld8 [1... Sf8 2.\\nW7#] 2. AL7 Se8 3. Ad6 a8\\n4. We8! He8 5. AL7# 1-0\\n\\n6.\\n\\nStolberg — Zak\\n\\nSU, 1938\\n\\n1. Bd7! Ad7 2. Wt? Gh8 3.\\nLc4! Ag6 4. Wes! Bg8 5. Af7#\\n1-0\\n\\n7.\\n\\nStamma\\n\\n1790\\n\\n1, He8! 2d8 2. Bd8! Bd8 3. Ac7\\nbs 4. Dab &a8 [4... Bc8 5.\\nWc7#] 5. Wb8! Bb8 6. S\\\\c7# 1-0\\n\\n8.\\nGreco\\n\\n1881\\n1... f2!2. Bel Ad3 3. Sdl (3.\\n\\n&f1 WH] 3... Wel! 4 Bel\\n4\\\\f2# 0-1\\n\\n9,\\nTietz - May\\n\\nVienna, 1912\\n\\n1. Ded! Ace4 2. Bed! Det 3.\\nHed!! Wes 4. Ags Wee [4---\\nWht s. Whi Bhi 6. Df7#] 5.\\nWh7! Wh7 6. Df7# 1-0\\n', '10.\\nAtkinson — N,N,\\nLanchester 1929\\n\\n- e6! We6 2. Dos Woe\\nEh) Wh74.om# 19 8\\n11.\\nYoung — Kittsley\\ngland, 1902\\n1. Wea! Whs[1... Yea 2. De7H:\\n1... Hdf8 2, Wo6 hg6 3. £a3 ghs\\nto 2. Wh7! Wh7 3. ATH\\n\\n12.\\n\\nMischke = Zollner\\n\\nFrankfurt, 1938\\n\\n1... Dh3! 2. Sh We! 3, Was\\n[3. gf3 B13#] 3... Df 4. bel\\n[4. Bf2 Wd5—+] 4... Wer! 5.\\nAc4 h3 6. Sh Weyl! 7. Bel\\nAFH 0-1\\n\\n13.\\n\\nBerezhovsky — Ruzhele\\n\\nSU, 1988\\n\\n1. W7! Bg8 (1... 2h6 2. Wh7#]\\n2. Wf6! [2... 2£6 3. AF7#] 1-0\\n14.\\n\\nZatulovskaya — Skegina\\n\\nSochi, 1982\\n\\n1. He8! [1... He8 (1... 2£8 2.\\nWe3+-) 2. WdS &h8 3. Af7\\n&g8 4. Aho Hh8 5. Wes! Hes\\n6. DLT#H] 1-0\\n\\n15.\\n\\nTimman — Short\\n\\nTilburg, 1990\\n\\n1. Wed! eh8 2. Af7 gs 3. Ah6\\nhs 4, Wg8! Bes 5. Af7# 1-0\\n\\n16.\\nPodzerov — Kunstowicz\\n\\ncorr, 1970\\n\\n1, We8l+- [1... &g8 2. Ae7\\n\\n&h8 3. Af7#] 1-0\\n\\n17.\\n\\nAtkins — Gibson\\n\\nSouthport, 1924\\n\\n1 ondedl Bed [1... Shs 2.\\nOf 2.6 3. Wd5] 2. Wd5! &h8?\\n(2... Weds 3. 2d5] 3. Wes! Hg8\\n\\n4, AEf7# 1-0\\n18.\\nZotov — Glebov\\n\\nU, 1975\\n: We7!+- [1..- Bycd4 2. Wb8!\\n\\nEb8 3. Dc7#] 1-0\\n', '10.\\nAtkinson — N,N,\\nLanchester 1929\\n\\n- e6! We6 2. Dos Woe\\nEh) Wh74.om# 19 8\\n11.\\nYoung — Kittsley\\ngland, 1902\\n1. Wea! Whs[1... Yea 2. De7H:\\n1... Hdf8 2, Wo6 hg6 3. £a3 ghs\\nto 2. Wh7! Wh7 3. ATH\\n\\n12.\\n\\nMischke = Zollner\\n\\nFrankfurt, 1938\\n\\n1... Dh3! 2. Sh We! 3, Was\\n[3. gf3 B13#] 3... Df 4. bel\\n[4. Bf2 Wd5—+] 4... Wer! 5.\\nAc4 h3 6. Sh Weyl! 7. Bel\\nAFH 0-1\\n\\n13.\\n\\nBerezhovsky — Ruzhele\\n\\nSU, 1988\\n\\n1. W7! Bg8 (1... 2h6 2. Wh7#]\\n2. Wf6! [2... 2£6 3. AF7#] 1-0\\n14.\\n\\nZatulovskaya — Skegina\\n\\nSochi, 1982\\n\\n1. He8! [1... He8 (1... 2£8 2.\\nWe3+-) 2. WdS &h8 3. Af7\\n&g8 4. Aho Hh8 5. Wes! Hes\\n6. DLT#H] 1-0\\n\\n15.\\n\\nTimman — Short\\n\\nTilburg, 1990\\n\\n1. Wed! eh8 2. Af7 gs 3. Ah6\\nhs 4, Wg8! Bes 5. Af7# 1-0\\n\\n16.\\nPodzerov — Kunstowicz\\n\\ncorr, 1970\\n\\n1, We8l+- [1... &g8 2. Ae7\\n\\n&h8 3. Af7#] 1-0\\n\\n17.\\n\\nAtkins — Gibson\\n\\nSouthport, 1924\\n\\n1 ondedl Bed [1... Shs 2.\\nOf 2.6 3. Wd5] 2. Wd5! &h8?\\n(2... Weds 3. 2d5] 3. Wes! Hg8\\n\\n4, AEf7# 1-0\\n18.\\nZotov — Glebov\\n\\nU, 1975\\n: We7!+- [1..- Bycd4 2. Wb8!\\n\\nEb8 3. Dc7#] 1-0\\n', '19.\\n\\nDoller — Carleson\\n\\nHastings, 1930\\n\\n1. WE7!+—- AE7[1... We5 2. kes\\nHes 3. West: 1... Hf7 2. Les]\\n2. Hg8! Bes 3. Af7# 1-0\\n\\n20.\\n\\nKinnmark — Strem\\n\\nSweden, 1955\\n\\n1. Bf6!+- Wes [1... gf 2.\\nWho; 1... WE 2. Ah6 ghé6 3.\\nXf6] 2. &h1 We4 3. Wh6 1-0\\n\\n21.\\n\\nBalanel — Pytlakowski\\nPolanica Zdroj, 1951\\n\\n1... Hg6!—+ 2. gh3? [2. 3 Sf\\n3. Bl Aed2 4. Ad2 Ad?) 2...\\nWell3.8g1 A#0-1\\n\\n22.\\n\\nWirtanen — Bergist\\n\\ncorr, 1974\\n\\n1. Bg8! Wes 2. We7! We7 3. f27\\n[3... &g8 4. Ae7#] 1-0\\n\\n23.\\n\\nR. Garcia — Wasserstrom\\nBuenos Aires, 1968\\n\\n1. Ae7!+— SFB [1... Be7 2.\\nWh7 &f8 3. Wh8#] 2. Ad7!\\nWd7 3. Wh7 [3... g6 4. We8#]\\n1-0\\n\\n24.\\n\\nEvans — Karaklajic\\n\\nReggio Emilia, 1962\\n\\n1... Wg5! 2, Wes Bg5 3. Ses\\n(3. @h3 &f6—-+] 3... h4! (4. Bh\\nBh5#] 0-1\\n\\n25.\\nFailic — Wildegans\\ncorr, 1939\\n\\n1... WE2! 2. De? [2. BP AN#:\\n2, WH Ag3 3. &h2 Afl 4. hl\\n23] 2... Wel! 3. gl (3. Agl\\nB)g3#] 3... Df2# 0-1\\n\\n26.\\n\\nSiff —- Kashdan\\n\\nUSA, 1948\\n\\n1... Dhg3!-+ 2, Hh2 AFI 3.\\nhl Wh2! 4. Ah? Afe3# 0-1\\n\\n27.\\n\\nFerarini — Moresi\\n\\nItaly, 1972\\n\\n1. 2.d5!+— Db7 2. Wb8! Bb8 3.\\na7! 2a7 4. Ac7# 1-0\\n', '19.\\n\\nDoller — Carleson\\n\\nHastings, 1930\\n\\n1. WE7!+—- AE7[1... We5 2. kes\\nHes 3. West: 1... Hf7 2. Les]\\n2. Hg8! Bes 3. Af7# 1-0\\n\\n20.\\n\\nKinnmark — Strem\\n\\nSweden, 1955\\n\\n1. Bf6!+- Wes [1... gf 2.\\nWho; 1... WE 2. Ah6 ghé6 3.\\nXf6] 2. &h1 We4 3. Wh6 1-0\\n\\n21.\\n\\nBalanel — Pytlakowski\\nPolanica Zdroj, 1951\\n\\n1... Hg6!—+ 2. gh3? [2. 3 Sf\\n3. Bl Aed2 4. Ad2 Ad?) 2...\\nWell3.8g1 A#0-1\\n\\n22.\\n\\nWirtanen — Bergist\\n\\ncorr, 1974\\n\\n1. Bg8! Wes 2. We7! We7 3. f27\\n[3... &g8 4. Ae7#] 1-0\\n\\n23.\\n\\nR. Garcia — Wasserstrom\\nBuenos Aires, 1968\\n\\n1. Ae7!+— SFB [1... Be7 2.\\nWh7 &f8 3. Wh8#] 2. Ad7!\\nWd7 3. Wh7 [3... g6 4. We8#]\\n1-0\\n\\n24.\\n\\nEvans — Karaklajic\\n\\nReggio Emilia, 1962\\n\\n1... Wg5! 2, Wes Bg5 3. Ses\\n(3. @h3 &f6—-+] 3... h4! (4. Bh\\nBh5#] 0-1\\n\\n25.\\nFailic — Wildegans\\ncorr, 1939\\n\\n1... WE2! 2. De? [2. BP AN#:\\n2, WH Ag3 3. &h2 Afl 4. hl\\n23] 2... Wel! 3. gl (3. Agl\\nB)g3#] 3... Df2# 0-1\\n\\n26.\\n\\nSiff —- Kashdan\\n\\nUSA, 1948\\n\\n1... Dhg3!-+ 2, Hh2 AFI 3.\\nhl Wh2! 4. Ah? Afe3# 0-1\\n\\n27.\\n\\nFerarini — Moresi\\n\\nItaly, 1972\\n\\n1. 2.d5!+— Db7 2. Wb8! Bb8 3.\\na7! 2a7 4. Ac7# 1-0\\n']\n"
     ]
    }
   ],
   "source": [
    "import PyPDF2\n",
    "import pytesseract\n",
    "from pdf2image import convert_from_path\n",
    "from PIL import Image\n",
    "\n",
    "# Step 1: Read PDF file\n",
    "pdf_file_path = '/Users/Sean/Library/CloudStorage/OneDrive-Personal/Datasets/middlegames_test2.pdf'\n",
    "pdf_file = open(pdf_file_path, 'rb')\n",
    "\n",
    "# Use PyPDF2 to extract text data from PDF file\n",
    "reader = PyPDF2.PdfReader(pdf_file)\n",
    "\n",
    "# List to store data\n",
    "data_contents = []\n",
    "\n",
    "# Loop through each page in the PDF\n",
    "for i in range(len(reader.pages)):\n",
    "    page = reader.pages[i]\n",
    "\n",
    "    # Step 2: Recognize and read image data within PDF\n",
    "    images = convert_from_path(pdf_file_path, first_page=i+1, last_page=i+2)\n",
    "    for image in images:\n",
    "        # Save image as png\n",
    "        image.save('out.png', 'PNG')\n",
    "\n",
    "        # Open the image file\n",
    "        img = Image.open('out.png')\n",
    "\n",
    "        # Use pytesseract to convert image data to string\n",
    "        data = pytesseract.image_to_string(img)\n",
    "\n",
    "        # Step 3: Transcribe and writes the data contents to a list\n",
    "        data_contents.append(data)\n",
    "\n",
    "print(data_contents)\n"
   ],
   "metadata": {
    "collapsed": false
   }
  },
  {
   "cell_type": "code",
   "execution_count": null,
   "outputs": [],
   "source": [],
   "metadata": {
    "collapsed": false
   }
  }
 ],
 "metadata": {
  "kernelspec": {
   "display_name": "Python 3",
   "language": "python",
   "name": "python3"
  },
  "language_info": {
   "codemirror_mode": {
    "name": "ipython",
    "version": 2
   },
   "file_extension": ".py",
   "mimetype": "text/x-python",
   "name": "python",
   "nbconvert_exporter": "python",
   "pygments_lexer": "ipython2",
   "version": "2.7.6"
  }
 },
 "nbformat": 4,
 "nbformat_minor": 0
}
