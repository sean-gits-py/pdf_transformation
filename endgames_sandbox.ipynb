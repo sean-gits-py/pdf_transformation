{
 "cells": [
  {
   "cell_type": "code",
   "execution_count": null,
   "metadata": {
    "collapsed": true
   },
   "outputs": [],
   "source": [
    "import pdfplumber\n",
    "import pandas as pd\n",
    "import re\n",
    "\n",
    "# Define the column names for the DataFrame\n",
    "column_names = [\"Puzzle Number\", \"Game\", \"Location & Year\", \"Solution: Desc Notation\",\n",
    "                \"Solution: Modern Notation\", \"Processing Notes\"]\n",
    "\n",
    "# Create an empty DataFrame\n",
    "df = pd.DataFrame(columns=column_names)\n",
    "\n",
    "# Provide the path to your PDF file\n",
    "pdf_path = '/path/to/your/file/chess-endgames.pdf'\n",
    "\n",
    "# Output file path\n",
    "output_file_path = '/path/to/your/output/file/endgames-py-output.txt'"
   ]
  },
  {
   "cell_type": "code",
   "execution_count": null,
   "outputs": [],
   "source": [
    "\n",
    "# Open the PDF file\n",
    "with pdfplumber.open(pdf_path) as pdf:\n",
    "    for i in range(785, 1153):  # Start from page 715, end at page 1008\n",
    "        page = pdf.pages[i]\n",
    "        text = page.extract_text()\n",
    "\n",
    "        # Initialize puzzle_number to \"Unknown\"\n",
    "        puzzle_number = \"Unknown\"\n",
    "        try:\n",
    "            # Extract the puzzle number, game, location & year, and solution\n",
    "            puzzle_number = re.findall(r'(\\d+)', text)\n",
    "            print(f'Puzzle Number: {puzzle_number}')\n",
    "            puzzle_number = puzzle_number[0]\n",
    "\n",
    "            game = re.findall(r'([A-Za-z -]+)', text)\n",
    "            print(f'Game: {game}')\n",
    "            game = game[1]\n",
    "\n",
    "            location_year = re.findall(r'([A-Za-z ,0-9]+)', text)\n",
    "            print(f'Location & Year: {location_year}')\n",
    "            location_year = location_year[2]\n",
    "\n",
    "            solution = re.findall(r'((?:[♚♛♜♝♞♟♔♕♖♗♘♙].*? )+\\d-\\d)', text)\n",
    "            print(f'Solution: {solution}')\n",
    "            solution = solution[0]\n",
    "\n",
    "            # Add a row to the DataFrame\n",
    "            df = df.append({\"Puzzle Number\": puzzle_number, \"Game\": game, \"Location & Year\": location_year,\n",
    "                            \"Solution: Desc Notation\": solution, \"Processing Notes\": \"\"}, ignore_index=True)\n",
    "\n",
    "            # Print an update for every 400 puzzles added to the DataFrame\n",
    "            if (i - 714 + 1) % 400 == 0:\n",
    "                print(f'Processed {i - 785 + 1} puzzles.')\n",
    "        except Exception as e:\n",
    "            df = df.append({\"Puzzle Number\": puzzle_number, \"Game\": \"\", \"Location & Year\": \"\",\n",
    "                            \"Solution: Desc Notation\": \"\", \"Processing Notes\": str(e)}, ignore_index=True)\n",
    "\n",
    "# Save the DataFrame to a file\n",
    "df\n"
   ],
   "metadata": {
    "collapsed": false
   }
  }
 ],
 "metadata": {
  "kernelspec": {
   "display_name": "Python 3",
   "language": "python",
   "name": "python3"
  },
  "language_info": {
   "codemirror_mode": {
    "name": "ipython",
    "version": 2
   },
   "file_extension": ".py",
   "mimetype": "text/x-python",
   "name": "python",
   "nbconvert_exporter": "python",
   "pygments_lexer": "ipython2",
   "version": "2.7.6"
  }
 },
 "nbformat": 4,
 "nbformat_minor": 0
}
