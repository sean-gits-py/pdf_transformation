{
 "cells": [
  {
   "cell_type": "code",
   "execution_count": null,
   "outputs": [],
   "source": [
    "import pytesseract as pytesseract\n",
    "from PyPDF2 import PdfFileReader\n",
    "\n",
    "pdf = PdfFileReader('/Users/Sean/Library/CloudStorage/OneDrive-Personal/Datasets/chess-endgames.pdf')"
   ],
   "metadata": {
    "collapsed": false
   }
  },
  {
   "cell_type": "code",
   "execution_count": null,
   "outputs": [],
   "source": [
    "#Extract text with two steps\n",
    "# Step 1 - grab pdf pages\n",
    "\n",
    "page_785_object = pdf.getPage(782)\n",
    "\n",
    "print(page_785_object)"
   ],
   "metadata": {
    "collapsed": false
   }
  },
  {
   "cell_type": "code",
   "execution_count": null,
   "outputs": [],
   "source": [
    "#Step 2 - extract text\n",
    "\n",
    "page_785_text = page_785_object.extractText()\n",
    "\n",
    "print(page_785_text)"
   ],
   "metadata": {
    "collapsed": false
   }
  },
  {
   "cell_type": "code",
   "execution_count": null,
   "outputs": [],
   "source": [],
   "metadata": {
    "collapsed": false
   }
  },
  {
   "cell_type": "code",
   "execution_count": null,
   "outputs": [],
   "source": [
    "import PyPDF2\n",
    "\n",
    "def extract_text_from_pdf(pdf_path, start_page, end_page):\n",
    "    pdf_file_obj = open(pdf_path, 'rb')  # Open the PDF file in binary read mode\n",
    "    pdf_reader = PyPDF2.PdfFileReader(pdf_file_obj)  # Create a PDF reader object\n",
    "\n",
    "    text = \"\"\n",
    "\n",
    "    # Go through each page in the specified range\n",
    "    for page_num in range(start_page - 1, end_page):  # Python uses 0-indexing\n",
    "        page_obj = pdf_reader.getPage(page_num)  # Get the page object\n",
    "        text += page_obj.extractText()  # Extract the text from the page\n",
    "\n",
    "    pdf_file_obj.close()  # Close the PDF file object\n",
    "    return text\n",
    "\n",
    "# usage\n",
    "pdf_path = '/Users/Sean/Library/CloudStorage/OneDrive-Personal/Datasets/chess-endgames.pdf'\n",
    "start_page = 782\n",
    "end_page = 783 #1150\n",
    "text = extract_text_from_pdf(pdf_path, start_page, end_page)\n",
    "print(text)\n"
   ],
   "metadata": {
    "collapsed": false
   }
  },
  {
   "cell_type": "code",
   "execution_count": null,
   "outputs": [],
   "source": [],
   "metadata": {
    "collapsed": false
   }
  },
  {
   "cell_type": "code",
   "execution_count": null,
   "outputs": [],
   "source": [
    "from pdfminer.high_level import extract_text\n",
    "\n",
    "def extract_text_from_pdf(pdf_path, start_page, end_page):\n",
    "    # Extract text from the specified page range\n",
    "    text = extract_text(pdf_path, page_numbers=list(range(start_page - 1, end_page)))\n",
    "    return text\n",
    "\n",
    "# usage\n",
    "pdf_path = '/Users/Sean/Library/CloudStorage/OneDrive-Personal/Datasets/chess-endgames.pdf'\n",
    "start_page = 782\n",
    "end_page = 785 #1153\n",
    "text = extract_text_from_pdf(pdf_path, start_page, end_page)\n",
    "print(text)"
   ],
   "metadata": {
    "collapsed": false
   }
  },
  {
   "cell_type": "code",
   "execution_count": null,
   "outputs": [],
   "source": [],
   "metadata": {
    "collapsed": false
   }
  },
  {
   "cell_type": "code",
   "execution_count": 14,
   "outputs": [
    {
     "ename": "ModuleNotFoundError",
     "evalue": "No module named 'poppler'",
     "output_type": "error",
     "traceback": [
      "\u001B[0;31m---------------------------------------------------------------------------\u001B[0m",
      "\u001B[0;31mModuleNotFoundError\u001B[0m                       Traceback (most recent call last)",
      "Cell \u001B[0;32mIn[14], line 1\u001B[0m\n\u001B[0;32m----> 1\u001B[0m \u001B[38;5;28;01mfrom\u001B[39;00m \u001B[38;5;21;01mpoppler\u001B[39;00m \u001B[38;5;28;01mimport\u001B[39;00m load_from_file, PageRenderer\n",
      "\u001B[0;31mModuleNotFoundError\u001B[0m: No module named 'poppler'"
     ]
    }
   ],
   "source": [
    "from poppler import load_from_file, PageRenderer\n"
   ],
   "metadata": {
    "collapsed": false
   }
  },
  {
   "cell_type": "code",
   "execution_count": 17,
   "outputs": [
    {
     "name": "stdout",
     "output_type": "stream",
     "text": [
      "Solutions\n",
      "\n",
      "Lésungen\n",
      "\n",
      "Solutions\n",
      "\n",
      "Soluciones\n",
      "\n",
      "Megfejtések\n",
      "1.\n",
      "\n",
      "Theoretical position\n",
      "\n",
      "1, Wb7+— &c5 2. bg2 dé 3.\n",
      "Sf hc5 4. Sed Hd6 5. WE\n",
      "Be7 [5... Sd7 6. HeS Hc8 7.\n",
      "Wa7 Sd8 8. &d6+-] 6. He5\n",
      "fT (6... bd7 7. Wb7 bef 8.\n",
      "e6+-; 6... Be8 7. We7 (7.\n",
      "Heb LB 8. Wel be8 9. We8#)\n",
      "7... B£B 8. &f6+—] 7. Wel [7.\n",
      "We Sg8 8. We7 Lh8 9.\n",
      "bf6+—-; 7. Sf5 he7 8. We7 LB\n",
      "9. Bf6+—-] 7... Se8 [7... e7 8.\n",
      "We7 (8. Wa7 a8 9. &d6+-)\n",
      "8... &d8 9. &d6+-] 8. We7\n",
      "dB 9. Bd6 bc8 10. We7#\n",
      "\n",
      "2.\n",
      "Theoretical position\n",
      "\n",
      "1. He2+- d5 2. bg? da 3.\n",
      "Sf3 Bd5 (3... Sd3 4. Be4+—]\n",
      "4. &f4 bd6 (4... d4 5. Bd2\n",
      "$c3 6. Be3 c4 7. Hed Hc3 8.\n",
      "Hd4+-] 5. BeS &d7 6. be4\n",
      "Bd6 7. dd Sc6 (7... &d7 8.\n",
      "&c5 &c7 9. Be7 Sd8 10.\n",
      "Sd6+-] 8. Be6 BbS 9. Bd6\n",
      "&b4 10. Wb6 a5 11. Bc5 had\n",
      "12, Bb7 &a3 13. &c4 a2 14.\n",
      "&c3 hal 15. c2 a2 16. Ba7#\n",
      "3.\n",
      "\n",
      "Theoretical position\n",
      "\n",
      "1, d7+~ e7 2. &c7 seb 3.\n",
      "dsw 1-0\n",
      "\n",
      "4.\n",
      "\n",
      "Theoretical position\n",
      "\n",
      "1... &cBl= 2. d7 &d8 3. &d6\n",
      "YVe\n",
      "\n",
      "5.\n",
      "\n",
      "Theoretical position\n",
      "\n",
      "1. e6 Be8!=[1... d8? 2. &d6!\n",
      "Be8 3. e7+-] 2. bd Ha8 3.\n",
      "eS he7 4. BF He8! 5. Sf6\n",
      "SPB! 4-%\n",
      "\n",
      "6.\n",
      "\n",
      "Theoretical position\n",
      "\n",
      "1. c5+— Sg4 2. c6 BFS 3. c7\n",
      "Se6 4. cBW 1-0\n",
      "\n",
      "7.\n",
      "Theoretical position\n",
      "\n",
      "1... Bpa!= 2. c5 HF5 3. c6 Heb\n",
      "4.07 Sd7 5. cBW &c8 2-%\n",
      "\n",
      "8.\n",
      "\n",
      "Theoretical position\n",
      "\n",
      "1. h7= [1. &f6 @h7=] 1... Shs\n",
      "VYVa\n",
      "\n",
      "9.\n",
      "Theoretical position\n",
      "\n",
      "1, &d3 Bd5!= 2. 4 (2. e3 Hes\n",
      "3.4 heb 4. Sd4 Sd6 5. e5 Heb\n",
      "6. Be4 He7] 2... He5 3. Hed\n",
      "Heb 4. Sd4 Sd6 5. e5 Heb 6.\n",
      "ed Se7 7. Bd5 hd7 8. e6 He7\n",
      "9. Be5 He8! 10. dé [10. Sf6\n",
      "&f8!] 10... bd8 4-%\n",
      "\n",
      "10.\n",
      "\n",
      "Theoretical position\n",
      "\n",
      "1... @d5 [1]... BFS 2. d4!+—-\n",
      "Seb 3. Het SF 4. Sd5 He7 5.\n",
      "Be5 HF7 6. dé S66 7. 4 SF7\n",
      "8. e5 he8 9. Heb HB 10. Hd7]\n",
      "2. Sf4!+— Heb 3. bed! db 4.\n",
      "BS! be7 5. eS hd7 6. Hf6\n",
      "&d6 7. e4! Bd7 8. 5 be8 9.\n",
      "eb! dB 10. 7 1-0\n",
      "\n",
      "11.\n",
      "\n",
      "Theoretical position\n",
      "\n",
      "1. Se2+— Be7 2. He3 Heb 3.\n",
      "d4 d6 4. d3! bc6 5. eS\n",
      "d7 6. &d5 &c7 7. Seb Hc6 8.\n",
      "d41-0\n",
      "\n",
      "12.\n",
      "\n",
      "Theoretical position\n",
      "\n",
      "1, &d2 Bd7= 2. He3 He7! (2...\n",
      "eb? 3. Sedt+—- bd6 4. dd;\n",
      "2... 8d6? 3. Sd4!+—; 2... c6?\n",
      "3. Bedl+— Bd6 4. d4!]3. ded\n",
      "[3. &d4 cd6] 3... Be6 4. d4\n",
      "$d6 4-%\n",
      "\n",
      "13.\n",
      "\n",
      "Theoretical position\n",
      "\n",
      "1... e8!= [1]... d7? 2.\n",
      "Sd5+-; 1... &e7? 2. HeS!+—-]\n",
      "2. &d5 [2. Se5 He7] 2... Hd7!\n",
      "3. be5 Be7 42-4\n",
      "\n",
      "14.\n",
      "\n",
      "Theoretical position\n",
      "\n",
      "1, &f5!+— HF7 2. eS HfB (2...\n",
      "Se8 3. heb! Sd8 4. d7 he7 5.\n",
      "He7] 3. Sf6! [3. be6? he8!=]\n",
      "3... Be8 4. Seb! Gd8 5. d7 1-0\n",
      "15.\n",
      "\n",
      "Theoretical position\n",
      "\n",
      "1. Bc2!+—- [1. &d2? we7= 2.\n",
      "&d3 Bd7!] 1... Se7 2. &b3!\n",
      "Bd6 3. Hb! [3. cd? Hc6=]\n",
      "3... %c6 4. be! 1-0\n",
      "\n",
      "16.\n",
      "\n",
      "Theoretical position\n",
      "\n",
      "1. c2!+— Be7 2. &b3! Hd6 3.\n",
      "bad! bc6 4. a5 Bb7 5. Hb5!\n",
      "\n",
      "(1-25) SOLUTIONS\n",
      "\n",
      "a7 6. Sc6 a6 7. b5 a7 8.\n",
      "&c7! (8. b6? a8! 9. bc7= (9.\n",
      "b7 &b8 10. &b6=) ] 8... a8 9.\n",
      "Hb6! [9. b6?2=] 9... Hb8 10.\n",
      "a6 a8 11. b6 b8 12. b7 bc7\n",
      "13. a7 1-0\n",
      "\n",
      "17.\n",
      "\n",
      "Theoretical position\n",
      "\n",
      "1. h6 (1. @h7 SF7=] 1... &g8=\n",
      "VY-Ve\n",
      "\n",
      "18.\n",
      "\n",
      "Theoretical position\n",
      "\n",
      "1. h6 [1. Sg8 &g5=] 1... &F7=\n",
      "“Yr\n",
      "\n",
      "19.\n",
      "\n",
      "Theoretical position\n",
      "\n",
      "1. &g4+— Bc5 2. BFS do 3.\n",
      "Sf! bd7 4. h4 eB 5. Sg7! 1-0\n",
      "\n",
      "20.\n",
      "\n",
      "Theoretical position\n",
      "\n",
      "1... @c5!= 2. &g4 hd6 3. SF5\n",
      "the7 4. Sp6 SFB 5.4 Se8 4-%\n",
      "\n",
      "21.\n",
      "\n",
      "Theoretical position\n",
      "\n",
      "1, (8H! (1. W2=] 1... &h6 2.\n",
      "Bhs#\n",
      "\n",
      "22.\n",
      "\n",
      "Grigoriev\n",
      "\n",
      "1. Sb3!+— Bc5 2. Hc3 dS 3.\n",
      "&d3 weS 4. Se3 SF 5. $B\n",
      "des 6. Sg3 G5 7. Hh4 Hf6 8.\n",
      "BhS g7 9. Sg5 Hf7 10. Hh6\n",
      "bg8 11. Sg6 1-0\n",
      "\n",
      "23.\n",
      "\n",
      "Horwitz\n",
      "\n",
      "1851\n",
      "\n",
      "1. g7+— Bh7 2. g8W! (2. &F77=]\n",
      "2... &g8 3. Sg6 Hh8 4. Sf7\n",
      "&h7 5. g6 1-0\n",
      "\n",
      "24.\n",
      "\n",
      "Pogosiants\n",
      "\n",
      "1961\n",
      "\n",
      "1... &c7 2. Se6+— dB 3. Hd5!\n",
      "[3. b6?=; 3. d62=] 3... d7 4.\n",
      "b6 bd8 5. db hc8 6. Hc6 Sb8\n",
      "7.07 a7 8. Sc7 1-0\n",
      "\n",
      "25.\n",
      "\n",
      "Ponziani\n",
      "\n",
      "1769\n",
      "\n",
      "1. &f4+— bg7 2. Sf5 Shs 3.\n",
      "bps &p7 4. h8W Sh8 5. bho\n",
      "1-0\n",
      "\n",
      "785\n",
      "\n"
     ]
    }
   ],
   "source": [
    "import pytesseract\n",
    "from PIL import Image\n",
    "from pdf2image import convert_from_path\n",
    "\n",
    "# Create a mapping dictionary for chess symbols\n",
    "chess_symbols = {\n",
    "    '\\u2654': '♔',\n",
    "    '\\u2655': '♕',\n",
    "    '\\u2656': '♖',\n",
    "    '\\u2657': '♗',\n",
    "    '\\u2658': '♘',\n",
    "    '\\u2659': '♙',\n",
    "    '\\u265A': '♚',\n",
    "    '\\u265B': '♛',\n",
    "    '\\u265C': '♜',\n",
    "    '\\u265D': '♝',\n",
    "    '\\u265E': '♞',\n",
    "    '\\u265F': '♟︎',\n",
    "}\n",
    "\n",
    "def extract_text_from_pdf(pdf_path, start_page, end_page):\n",
    "    # Convert the pages into images\n",
    "    images = convert_from_path(pdf_path)[start_page - 1:end_page]\n",
    "\n",
    "    text = \"\"\n",
    "\n",
    "    # Run OCR on each image\n",
    "    for image in images:\n",
    "        text += pytesseract.image_to_string(image, lang='eng')\n",
    "\n",
    "    # Replace misinterpreted characters with the correct chess symbols\n",
    "    for code, symbol in chess_symbols.items():\n",
    "        text = text.replace(code, symbol)\n",
    "\n",
    "    return text\n",
    "\n",
    "# usage\n",
    "pdf_path = '/Users/Sean/Library/CloudStorage/OneDrive-Personal/Datasets/chess-endgames.pdf'\n",
    "start_page = 782\n",
    "end_page = 783 #1153\n",
    "text = extract_text_from_pdf(pdf_path, start_page, end_page)\n",
    "print(text)"
   ],
   "metadata": {
    "collapsed": false
   }
  },
  {
   "cell_type": "code",
   "execution_count": 18,
   "outputs": [
    {
     "ename": "UnicodeDecodeError",
     "evalue": "'utf-8' codec can't decode byte 0xc4 in position 10: invalid continuation byte",
     "output_type": "error",
     "traceback": [
      "\u001B[0;31m---------------------------------------------------------------------------\u001B[0m",
      "\u001B[0;31mUnicodeDecodeError\u001B[0m                        Traceback (most recent call last)",
      "Cell \u001B[0;32mIn[18], line 2\u001B[0m\n\u001B[1;32m      1\u001B[0m f \u001B[38;5;241m=\u001B[39m \u001B[38;5;28mopen\u001B[39m (\u001B[38;5;124m'\u001B[39m\u001B[38;5;124m/Users/Sean/Library/CloudStorage/OneDrive-Personal/Datasets/middlegames_test2.pdf\u001B[39m\u001B[38;5;124m'\u001B[39m, \u001B[38;5;124m'\u001B[39m\u001B[38;5;124mr\u001B[39m\u001B[38;5;124m'\u001B[39m, encoding\u001B[38;5;241m=\u001B[39m\u001B[38;5;124m'\u001B[39m\u001B[38;5;124mutf-8\u001B[39m\u001B[38;5;124m'\u001B[39m)\n\u001B[0;32m----> 2\u001B[0m text \u001B[38;5;241m=\u001B[39m \u001B[43mf\u001B[49m\u001B[38;5;241;43m.\u001B[39;49m\u001B[43mread\u001B[49m\u001B[43m(\u001B[49m\u001B[43m)\u001B[49m\n\u001B[1;32m      3\u001B[0m f\u001B[38;5;241m.\u001B[39mclose()\n\u001B[1;32m      5\u001B[0m \u001B[38;5;28mprint\u001B[39m(text)\n",
      "File \u001B[0;32m~/.conda/envs/pdf_transformation/lib/python3.10/codecs.py:322\u001B[0m, in \u001B[0;36mBufferedIncrementalDecoder.decode\u001B[0;34m(self, input, final)\u001B[0m\n\u001B[1;32m    319\u001B[0m \u001B[38;5;28;01mdef\u001B[39;00m \u001B[38;5;21mdecode\u001B[39m(\u001B[38;5;28mself\u001B[39m, \u001B[38;5;28minput\u001B[39m, final\u001B[38;5;241m=\u001B[39m\u001B[38;5;28;01mFalse\u001B[39;00m):\n\u001B[1;32m    320\u001B[0m     \u001B[38;5;66;03m# decode input (taking the buffer into account)\u001B[39;00m\n\u001B[1;32m    321\u001B[0m     data \u001B[38;5;241m=\u001B[39m \u001B[38;5;28mself\u001B[39m\u001B[38;5;241m.\u001B[39mbuffer \u001B[38;5;241m+\u001B[39m \u001B[38;5;28minput\u001B[39m\n\u001B[0;32m--> 322\u001B[0m     (result, consumed) \u001B[38;5;241m=\u001B[39m \u001B[38;5;28;43mself\u001B[39;49m\u001B[38;5;241;43m.\u001B[39;49m\u001B[43m_buffer_decode\u001B[49m\u001B[43m(\u001B[49m\u001B[43mdata\u001B[49m\u001B[43m,\u001B[49m\u001B[43m \u001B[49m\u001B[38;5;28;43mself\u001B[39;49m\u001B[38;5;241;43m.\u001B[39;49m\u001B[43merrors\u001B[49m\u001B[43m,\u001B[49m\u001B[43m \u001B[49m\u001B[43mfinal\u001B[49m\u001B[43m)\u001B[49m\n\u001B[1;32m    323\u001B[0m     \u001B[38;5;66;03m# keep undecoded input until the next call\u001B[39;00m\n\u001B[1;32m    324\u001B[0m     \u001B[38;5;28mself\u001B[39m\u001B[38;5;241m.\u001B[39mbuffer \u001B[38;5;241m=\u001B[39m data[consumed:]\n",
      "\u001B[0;31mUnicodeDecodeError\u001B[0m: 'utf-8' codec can't decode byte 0xc4 in position 10: invalid continuation byte"
     ]
    }
   ],
   "source": [
    "f = open ('/Users/Sean/Library/CloudStorage/OneDrive-Personal/Datasets/middlegames_test2.pdf', 'r', encoding='utf-8')\n",
    "text = f.read()\n",
    "f.close()\n",
    "\n",
    "print(text)\n"
   ],
   "metadata": {
    "collapsed": false
   }
  },
  {
   "cell_type": "code",
   "execution_count": null,
   "outputs": [],
   "source": [],
   "metadata": {
    "collapsed": false
   }
  },
  {
   "cell_type": "code",
   "execution_count": 19,
   "outputs": [],
   "source": [
    "import PyPDF2\n",
    "\n",
    "input_file_path = \"/Users/Sean/Library/CloudStorage/OneDrive-Personal/Datasets/chess-endgames.pdf\"\n",
    "output_file_path = \"/Users/Sean/Library/CloudStorage/OneDrive-Personal/Datasets/chess-endgames-subset.pdf\"\n",
    "\n",
    "input_pdf = PyPDF2.PdfFileReader(input_file_path)\n",
    "output_pdf = PyPDF2.PdfFileWriter()\n",
    "\n",
    "for i in range(781, 1153):  # pages are 0-indexed in PyPDF2\n",
    "    page = input_pdf.getPage(i)\n",
    "    output_pdf.addPage(page)\n",
    "\n",
    "with open(output_file_path, \"wb\") as output_file:\n",
    "    output_pdf.write(output_file)\n",
    "\n"
   ],
   "metadata": {
    "collapsed": false
   }
  },
  {
   "cell_type": "code",
   "execution_count": null,
   "outputs": [],
   "source": [],
   "metadata": {
    "collapsed": false
   }
  },
  {
   "cell_type": "code",
   "execution_count": 20,
   "outputs": [],
   "source": [
    "import unicodedata\n",
    "solutions_pdf = \"/Users/Sean/Library/CloudStorage/OneDrive-Personal/Datasets/chess-endgames-subset.pdf\""
   ],
   "metadata": {
    "collapsed": false
   }
  },
  {
   "cell_type": "code",
   "execution_count": 21,
   "outputs": [
    {
     "ename": "UnicodeDecodeError",
     "evalue": "'utf-8' codec can't decode byte 0xe2 in position 10: invalid continuation byte",
     "output_type": "error",
     "traceback": [
      "\u001B[0;31m---------------------------------------------------------------------------\u001B[0m",
      "\u001B[0;31mUnicodeDecodeError\u001B[0m                        Traceback (most recent call last)",
      "Cell \u001B[0;32mIn[21], line 2\u001B[0m\n\u001B[1;32m      1\u001B[0m \u001B[38;5;28;01mwith\u001B[39;00m \u001B[38;5;28mopen\u001B[39m(solutions_pdf, encoding\u001B[38;5;241m=\u001B[39m\u001B[38;5;124m'\u001B[39m\u001B[38;5;124mutf-8\u001B[39m\u001B[38;5;124m'\u001B[39m) \u001B[38;5;28;01mas\u001B[39;00m f:\n\u001B[0;32m----> 2\u001B[0m     \u001B[38;5;28;01mfor\u001B[39;00m line \u001B[38;5;129;01min\u001B[39;00m f:\n\u001B[1;32m      3\u001B[0m         \u001B[38;5;28mprint\u001B[39m(\u001B[38;5;28mrepr\u001B[39m(line))\n",
      "File \u001B[0;32m~/.conda/envs/pdf_transformation/lib/python3.10/codecs.py:322\u001B[0m, in \u001B[0;36mBufferedIncrementalDecoder.decode\u001B[0;34m(self, input, final)\u001B[0m\n\u001B[1;32m    319\u001B[0m \u001B[38;5;28;01mdef\u001B[39;00m \u001B[38;5;21mdecode\u001B[39m(\u001B[38;5;28mself\u001B[39m, \u001B[38;5;28minput\u001B[39m, final\u001B[38;5;241m=\u001B[39m\u001B[38;5;28;01mFalse\u001B[39;00m):\n\u001B[1;32m    320\u001B[0m     \u001B[38;5;66;03m# decode input (taking the buffer into account)\u001B[39;00m\n\u001B[1;32m    321\u001B[0m     data \u001B[38;5;241m=\u001B[39m \u001B[38;5;28mself\u001B[39m\u001B[38;5;241m.\u001B[39mbuffer \u001B[38;5;241m+\u001B[39m \u001B[38;5;28minput\u001B[39m\n\u001B[0;32m--> 322\u001B[0m     (result, consumed) \u001B[38;5;241m=\u001B[39m \u001B[38;5;28;43mself\u001B[39;49m\u001B[38;5;241;43m.\u001B[39;49m\u001B[43m_buffer_decode\u001B[49m\u001B[43m(\u001B[49m\u001B[43mdata\u001B[49m\u001B[43m,\u001B[49m\u001B[43m \u001B[49m\u001B[38;5;28;43mself\u001B[39;49m\u001B[38;5;241;43m.\u001B[39;49m\u001B[43merrors\u001B[49m\u001B[43m,\u001B[49m\u001B[43m \u001B[49m\u001B[43mfinal\u001B[49m\u001B[43m)\u001B[49m\n\u001B[1;32m    323\u001B[0m     \u001B[38;5;66;03m# keep undecoded input until the next call\u001B[39;00m\n\u001B[1;32m    324\u001B[0m     \u001B[38;5;28mself\u001B[39m\u001B[38;5;241m.\u001B[39mbuffer \u001B[38;5;241m=\u001B[39m data[consumed:]\n",
      "\u001B[0;31mUnicodeDecodeError\u001B[0m: 'utf-8' codec can't decode byte 0xe2 in position 10: invalid continuation byte"
     ]
    }
   ],
   "source": [
    "with open(solutions_pdf, encoding='utf-8') as f:\n",
    "    for line in f:\n",
    "        print(repr(line))"
   ],
   "metadata": {
    "collapsed": false
   }
  },
  {
   "cell_type": "code",
   "execution_count": null,
   "outputs": [],
   "source": [],
   "metadata": {
    "collapsed": false
   }
  }
 ],
 "metadata": {
  "kernelspec": {
   "display_name": "Python 3",
   "language": "python",
   "name": "python3"
  },
  "language_info": {
   "codemirror_mode": {
    "name": "ipython",
    "version": 2
   },
   "file_extension": ".py",
   "mimetype": "text/x-python",
   "name": "python",
   "nbconvert_exporter": "python",
   "pygments_lexer": "ipython2",
   "version": "2.7.6"
  }
 },
 "nbformat": 4,
 "nbformat_minor": 0
}
